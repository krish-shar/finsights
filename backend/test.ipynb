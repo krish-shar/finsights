{
 "cells": [
  {
   "cell_type": "code",
   "execution_count": 3,
   "metadata": {},
   "outputs": [],
   "source": [
    "import yfinance as yf"
   ]
  },
  {
   "cell_type": "code",
   "execution_count": 13,
   "metadata": {},
   "outputs": [
    {
     "name": "stderr",
     "output_type": "stream",
     "text": [
      "[*********************100%***********************]  1 of 1 completed"
     ]
    },
    {
     "name": "stdout",
     "output_type": "stream",
     "text": [
      "                  Open        High         Low       Close   Adj Close  \\\n",
      "Date                                                                     \n",
      "1980-12-12    0.128348    0.128906    0.128348    0.128348    0.098943   \n",
      "1980-12-15    0.122210    0.122210    0.121652    0.121652    0.093781   \n",
      "1980-12-16    0.113281    0.113281    0.112723    0.112723    0.086898   \n",
      "1980-12-17    0.115513    0.116071    0.115513    0.115513    0.089049   \n",
      "1980-12-18    0.118862    0.119420    0.118862    0.118862    0.091630   \n",
      "...                ...         ...         ...         ...         ...   \n",
      "2024-09-23  227.339996  229.449997  225.809998  226.470001  226.470001   \n",
      "2024-09-24  228.649994  229.350006  225.729996  227.369995  227.369995   \n",
      "2024-09-25  224.929993  227.289993  224.020004  226.369995  226.369995   \n",
      "2024-09-26  227.300003  228.500000  225.410004  227.520004  227.520004   \n",
      "2024-09-27  228.460007  229.520004  227.300003  227.789993  227.789993   \n",
      "\n",
      "               Volume  \n",
      "Date                   \n",
      "1980-12-12  469033600  \n",
      "1980-12-15  175884800  \n",
      "1980-12-16  105728000  \n",
      "1980-12-17   86441600  \n",
      "1980-12-18   73449600  \n",
      "...               ...  \n",
      "2024-09-23   54146000  \n",
      "2024-09-24   43556100  \n",
      "2024-09-25   42308700  \n",
      "2024-09-26   36636700  \n",
      "2024-09-27   33993600  \n",
      "\n",
      "[11040 rows x 6 columns]\n"
     ]
    },
    {
     "name": "stderr",
     "output_type": "stream",
     "text": [
      "\n"
     ]
    }
   ],
   "source": [
    "chart = yf.download(\"AAPL\")\n",
    "print(chart)"
   ]
  },
  {
   "cell_type": "code",
   "execution_count": 11,
   "metadata": {},
   "outputs": [
    {
     "ename": "ModuleNotFoundError",
     "evalue": "No module named 'mplfinance'",
     "output_type": "error",
     "traceback": [
      "\u001b[0;31m---------------------------------------------------------------------------\u001b[0m",
      "\u001b[0;31mModuleNotFoundError\u001b[0m                       Traceback (most recent call last)",
      "Cell \u001b[0;32mIn[11], line 1\u001b[0m\n\u001b[0;32m----> 1\u001b[0m \u001b[38;5;28;01mimport\u001b[39;00m \u001b[38;5;21;01mmplfinance\u001b[39;00m \u001b[38;5;28;01mas\u001b[39;00m \u001b[38;5;21;01mmpf\u001b[39;00m\n\u001b[1;32m      2\u001b[0m \u001b[38;5;28;01mimport\u001b[39;00m \u001b[38;5;21;01mwarnings\u001b[39;00m\n\u001b[1;32m      3\u001b[0m warnings\u001b[38;5;241m.\u001b[39mfilterwarnings(\u001b[38;5;124m'\u001b[39m\u001b[38;5;124mignore\u001b[39m\u001b[38;5;124m'\u001b[39m)\n",
      "\u001b[0;31mModuleNotFoundError\u001b[0m: No module named 'mplfinance'"
     ]
    }
   ],
   "source": [
    "print(type(chart))"
   ]
  },
  {
   "cell_type": "code",
   "execution_count": null,
   "metadata": {},
   "outputs": [],
   "source": []
  }
 ],
 "metadata": {
  "kernelspec": {
   "display_name": "Python 3",
   "language": "python",
   "name": "python3"
  },
  "language_info": {
   "codemirror_mode": {
    "name": "ipython",
    "version": 3
   },
   "file_extension": ".py",
   "mimetype": "text/x-python",
   "name": "python",
   "nbconvert_exporter": "python",
   "pygments_lexer": "ipython3",
   "version": "3.12.3"
  }
 },
 "nbformat": 4,
 "nbformat_minor": 2
}
