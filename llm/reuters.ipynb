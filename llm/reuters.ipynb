{
 "cells": [
  {
   "cell_type": "code",
   "execution_count": 1,
   "metadata": {},
   "outputs": [],
   "source": [
    "import requests\n",
    "import json\n",
    "from bs4 import BeautifulSoup"
   ]
  },
  {
   "cell_type": "code",
   "execution_count": 3,
   "metadata": {},
   "outputs": [],
   "source": [
    "URL = \"https://www.reuters.com/site-search/?query=AAPL\""
   ]
  },
  {
   "cell_type": "code",
   "execution_count": 8,
   "metadata": {},
   "outputs": [],
   "source": [
    "# Define a user agent\n",
    "headers = {\n",
    "    \"User-Agent\": \"Mozilla/5.0 (Windows NT 10.0; Win64; x64) AppleWebKit/537.36 (KHTML, like Gecko) Chrome/91.0.4472.124 Safari/537.36\"\n",
    "}\n",
    "\n",
    "# Make the request with the user agent\n",
    "response = requests.get(URL, headers=headers)"
   ]
  },
  {
   "cell_type": "code",
   "execution_count": 9,
   "metadata": {},
   "outputs": [
    {
     "data": {
      "text/plain": [
       "'<html><head><title>reuters.com</title><style>#cmsg{animation: A 1.5s;}@keyframes A{0%{opacity:0;}99%{opacity:0;}100%{opacity:1;}}</style></head><body style=\"margin:0\"><p id=\"cmsg\">Please enable JS and disable any ad blocker</p><script data-cfasync=\"false\">var dd={\\'rt\\':\\'c\\',\\'cid\\':\\'AHrlqAAAAAMAADJyxo662G8AgTt6hg==\\',\\'hsh\\':\\'2013457ADA70C67D6A4123E0A76873\\',\\'t\\':\\'fe\\',\\'s\\':44731,\\'e\\':\\'370c7be71f41be594699352f08f0c8563f44a38abd308e3e209af8e78364470a\\',\\'host\\':\\'geo.captcha-delivery.com\\'}</script><script data-cfasync=\"false\" src=\"https://ct.captcha-delivery.com/c.js\"></script></body></html>'"
      ]
     },
     "execution_count": 9,
     "metadata": {},
     "output_type": "execute_result"
    }
   ],
   "source": [
    "response.text"
   ]
  },
  {
   "cell_type": "code",
   "execution_count": 15,
   "metadata": {},
   "outputs": [
    {
     "name": "stdout",
     "output_type": "stream",
     "text": [
      "Requirement already satisfied: bs4 in ./venv/lib/python3.12/site-packages (0.0.2)\n",
      "Requirement already satisfied: requests in ./venv/lib/python3.12/site-packages (2.32.3)\n",
      "Collecting reuters\n",
      "  Downloading Reuters-1.2.1-py3-none-any.whl.metadata (1.7 kB)\n",
      "Requirement already satisfied: beautifulsoup4 in ./venv/lib/python3.12/site-packages (from bs4) (4.12.3)\n",
      "Requirement already satisfied: charset-normalizer<4,>=2 in ./venv/lib/python3.12/site-packages (from requests) (3.3.2)\n",
      "Requirement already satisfied: idna<4,>=2.5 in ./venv/lib/python3.12/site-packages (from requests) (3.10)\n",
      "Requirement already satisfied: urllib3<3,>=1.21.1 in ./venv/lib/python3.12/site-packages (from requests) (2.2.3)\n",
      "Requirement already satisfied: certifi>=2017.4.17 in ./venv/lib/python3.12/site-packages (from requests) (2024.8.30)\n",
      "Requirement already satisfied: soupsieve>1.2 in ./venv/lib/python3.12/site-packages (from beautifulsoup4->bs4) (2.6)\n",
      "Downloading Reuters-1.2.1-py3-none-any.whl (3.4 kB)\n",
      "Installing collected packages: reuters\n",
      "Successfully installed reuters-1.2.1\n",
      "Note: you may need to restart the kernel to use updated packages.\n"
     ]
    }
   ],
   "source": [
    "%pip install bs4 requests reuters"
   ]
  },
  {
   "cell_type": "code",
   "execution_count": 16,
   "metadata": {},
   "outputs": [
    {
     "ename": "ModuleNotFoundError",
     "evalue": "No module named 'reuters'",
     "output_type": "error",
     "traceback": [
      "\u001b[0;31m---------------------------------------------------------------------------\u001b[0m",
      "\u001b[0;31mModuleNotFoundError\u001b[0m                       Traceback (most recent call last)",
      "Cell \u001b[0;32mIn[16], line 6\u001b[0m\n\u001b[1;32m      4\u001b[0m \u001b[39mimport\u001b[39;00m \u001b[39mcodecs\u001b[39;00m\n\u001b[1;32m      5\u001b[0m \u001b[39mimport\u001b[39;00m \u001b[39margparse\u001b[39;00m\n\u001b[0;32m----> 6\u001b[0m \u001b[39mimport\u001b[39;00m \u001b[39mreuters\u001b[39;00m\n\u001b[1;32m      7\u001b[0m \u001b[39mimport\u001b[39;00m \u001b[39mre\u001b[39;00m\n\u001b[1;32m      9\u001b[0m \u001b[39mdef\u001b[39;00m \u001b[39mmain\u001b[39m(args):\n",
      "\u001b[0;31mModuleNotFoundError\u001b[0m: No module named 'reuters'"
     ]
    }
   ],
   "source": [
    "from datetime import datetime\n",
    "from datetime import timedelta\n",
    "import sys\n",
    "import codecs\n",
    "import argparse\n",
    "import reuters\n",
    "import re\n",
    "\n",
    "def main(args):\n",
    "\n",
    "    dstart = datetime.strptime(args.dstart, '%m-%d-%Y')\n",
    "    dend = datetime.strptime(args.dend, '%m-%d-%Y')\n",
    "    delta = dend - dstart\n",
    "    ticker = args.ticker + \".O\"\n",
    "\n",
    "    print(\"TICKER: %s - FROM: %s TO: %s\" % (ticker, dstart.strftime(\"%m-%d-%Y\"), dend.strftime(\"%m-%d-%Y\")))\n",
    "\n",
    "    proxy = args.proxy\n",
    "\n",
    "    if proxy != None and re.match(r'https://', proxy):\n",
    "        proxy = {'https': proxy}\n",
    "        print(proxy)\n",
    "    elif proxy != None and re.match(r'http://', proxy):\n",
    "        proxy = {'http': proxy}\n",
    "        print(proxy)\n",
    "    else:\n",
    "        proxy = None\n",
    "        print(\"Proxy not set\")\n",
    "\n",
    "    output_file = \"%s_%s.csv\" % (args.ticker, args.dstart)\n",
    "    print(\"Saving to: \\\"%s\\\"\" % output_file)\n",
    "    output = codecs.open(output_file, \"w+\", \"utf-8\")\n",
    "    output.write('\\\"date\\\",\\\"title\\\",\\\"url\\\",\\\"description\\\",\\\"text\\\"')\n",
    "\n",
    "    for i in range(0,delta.days):\n",
    "\n",
    "        date = dstart + timedelta(days=1) * i\n",
    "        \n",
    "        url = \"https://www.reuters.com/finance/stocks/company-news/%s?date=%s\" % (ticker, date.strftime(\"%m%d%Y\"))\n",
    "        list_ = reuters.scraper.scrape(url, proxy)\n",
    "\n",
    "        print(\"Total articles: \", reuters.Article.artcl_count)\n",
    "\n",
    "        for artcl in list_:\n",
    "            artcl.title, artcl.link, artcl.descrp, artcl.text\n",
    "            output.write(('\\n\\\"%s\\\",\\\"%s\\\",\\\"%s\\\",\\\"%s\\\",\\\"%s\\\"' % (date.strftime(\"%m-%d-%Y\"), artcl.title, artcl.link, artcl.descrp, artcl.text) ))\n",
    "    \n",
    "            output.flush()\n",
    "    output.close()\n",
    "\n",
    "if __name__ == \"__main__\":\n",
    "    argparser = argparse.ArgumentParser()\n",
    "    argparser.add_argument(\"--ticker\", type=str, help=\"Company ticker \\n ex: AAPL, FB, AMZN\")\n",
    "    argparser.add_argument(\"--dstart\", type=str, default=\"07-06-2011\", help=\"Starting date\")\n",
    "    argparser.add_argument(\"--dend\", type=str, default=datetime.now().strftime(\"%m-%d-%Y\"), help=\"End date\")\n",
    "    argparser.add_argument(\"--proxy\", type=str,  default=None, help=\"Proxy: \\\"http(s)://IP:port\\\" \")\n",
    "\n",
    "    args = argparser.parse_args()\n",
    "\n",
    "    main(args)\n"
   ]
  }
 ],
 "metadata": {
  "kernelspec": {
   "display_name": "venv",
   "language": "python",
   "name": "python3"
  },
  "language_info": {
   "codemirror_mode": {
    "name": "ipython",
    "version": 3
   },
   "file_extension": ".py",
   "mimetype": "text/x-python",
   "name": "python",
   "nbconvert_exporter": "python",
   "pygments_lexer": "ipython3",
   "version": "3.12.5"
  },
  "orig_nbformat": 4
 },
 "nbformat": 4,
 "nbformat_minor": 2
}
